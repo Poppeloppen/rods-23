{
  "cells": [
    {
      "cell_type": "markdown",
      "metadata": {
        "id": "o9gw5-ksWqGO"
      },
      "source": [
        "# Exercise week 3: Null models"
      ]
    },
    {
      "cell_type": "code",
      "execution_count": 23,
      "metadata": {
        "id": "Ky8-5rLSWqGV"
      },
      "outputs": [],
      "source": [
        "# Imports\n",
        "import pandas as pd\n",
        "import matplotlib.pyplot as plt\n",
        "import seaborn as sns\n",
        "import numpy as np\n",
        "import random\n",
        "from scipy.stats import mannwhitneyu as mannU"
      ]
    },
    {
      "cell_type": "markdown",
      "metadata": {
        "id": "8Yu1zfKLWqGX"
      },
      "source": [
        "<h2>Quantifying the evolution of individual scientific impact</h2>\n",
        "\n",
        "For this exercise you will reproduce results of the paper: *Quantifying the evolution\n",
        "of individual scientific impact*: http://www.robertasinatra.com/pdf/Science_quantifying_aaf5239_Sinatra.pdf\n",
        "\n",
        "The exercise consists of creating a null model for the distribution of the time of the highest impact paper in scientific careers. You will be reproducing the results shown in Figure 2D in the paper.\n",
        "\n",
        "\n",
        "<b>The dataset describing the scientist's careers is as follows:</b>\n",
        "\n",
        "Careers time: scientist id and a list of time (in days) when his/her papers were published.\n",
        "\n",
        "Careers cites: scientist id and a list of number of citations each paper received. Note that here we are using the number of citations as a proxy to measure the impact of a paper."
      ]
    },
    {
      "cell_type": "markdown",
      "metadata": {
        "id": "AXi-hDHRWqGY"
      },
      "source": [
        "<h2>Read the time the papers were published</h2>"
      ]
    },
    {
      "cell_type": "code",
      "execution_count": 31,
      "metadata": {
        "id": "d5SXVeRiWqGY",
        "outputId": "05812675-ae60-4550-b67a-ac8b34e450d3",
        "colab": {
          "base_uri": "https://localhost:8080/",
          "height": 206
        }
      },
      "outputs": [
        {
          "output_type": "execute_result",
          "data": {
            "text/plain": [
              "    id                                             papers\n",
              "0   48  [0, 455, 1057, 1330, 1687, 1939, 2065, 2492, 2...\n",
              "1   64  [0, 175, 1400, 1492, 2206, 2223, 2407, 2710, 2...\n",
              "2  378  [0, 0, 249, 354, 371, 583, 644, 675, 781, 781,...\n",
              "3  476  [0, 61, 244, 304, 419, 594, 608, 839, 973, 109...\n",
              "4  485  [0, 194, 335, 335, 335, 943, 973, 1218, 1980, ..."
            ],
            "text/html": [
              "\n",
              "  <div id=\"df-c31e7bbf-928d-4f82-ab7d-aa98645259c5\">\n",
              "    <div class=\"colab-df-container\">\n",
              "      <div>\n",
              "<style scoped>\n",
              "    .dataframe tbody tr th:only-of-type {\n",
              "        vertical-align: middle;\n",
              "    }\n",
              "\n",
              "    .dataframe tbody tr th {\n",
              "        vertical-align: top;\n",
              "    }\n",
              "\n",
              "    .dataframe thead th {\n",
              "        text-align: right;\n",
              "    }\n",
              "</style>\n",
              "<table border=\"1\" class=\"dataframe\">\n",
              "  <thead>\n",
              "    <tr style=\"text-align: right;\">\n",
              "      <th></th>\n",
              "      <th>id</th>\n",
              "      <th>papers</th>\n",
              "    </tr>\n",
              "  </thead>\n",
              "  <tbody>\n",
              "    <tr>\n",
              "      <th>0</th>\n",
              "      <td>48</td>\n",
              "      <td>[0, 455, 1057, 1330, 1687, 1939, 2065, 2492, 2...</td>\n",
              "    </tr>\n",
              "    <tr>\n",
              "      <th>1</th>\n",
              "      <td>64</td>\n",
              "      <td>[0, 175, 1400, 1492, 2206, 2223, 2407, 2710, 2...</td>\n",
              "    </tr>\n",
              "    <tr>\n",
              "      <th>2</th>\n",
              "      <td>378</td>\n",
              "      <td>[0, 0, 249, 354, 371, 583, 644, 675, 781, 781,...</td>\n",
              "    </tr>\n",
              "    <tr>\n",
              "      <th>3</th>\n",
              "      <td>476</td>\n",
              "      <td>[0, 61, 244, 304, 419, 594, 608, 839, 973, 109...</td>\n",
              "    </tr>\n",
              "    <tr>\n",
              "      <th>4</th>\n",
              "      <td>485</td>\n",
              "      <td>[0, 194, 335, 335, 335, 943, 973, 1218, 1980, ...</td>\n",
              "    </tr>\n",
              "  </tbody>\n",
              "</table>\n",
              "</div>\n",
              "      <button class=\"colab-df-convert\" onclick=\"convertToInteractive('df-c31e7bbf-928d-4f82-ab7d-aa98645259c5')\"\n",
              "              title=\"Convert this dataframe to an interactive table.\"\n",
              "              style=\"display:none;\">\n",
              "        \n",
              "  <svg xmlns=\"http://www.w3.org/2000/svg\" height=\"24px\"viewBox=\"0 0 24 24\"\n",
              "       width=\"24px\">\n",
              "    <path d=\"M0 0h24v24H0V0z\" fill=\"none\"/>\n",
              "    <path d=\"M18.56 5.44l.94 2.06.94-2.06 2.06-.94-2.06-.94-.94-2.06-.94 2.06-2.06.94zm-11 1L8.5 8.5l.94-2.06 2.06-.94-2.06-.94L8.5 2.5l-.94 2.06-2.06.94zm10 10l.94 2.06.94-2.06 2.06-.94-2.06-.94-.94-2.06-.94 2.06-2.06.94z\"/><path d=\"M17.41 7.96l-1.37-1.37c-.4-.4-.92-.59-1.43-.59-.52 0-1.04.2-1.43.59L10.3 9.45l-7.72 7.72c-.78.78-.78 2.05 0 2.83L4 21.41c.39.39.9.59 1.41.59.51 0 1.02-.2 1.41-.59l7.78-7.78 2.81-2.81c.8-.78.8-2.07 0-2.86zM5.41 20L4 18.59l7.72-7.72 1.47 1.35L5.41 20z\"/>\n",
              "  </svg>\n",
              "      </button>\n",
              "      \n",
              "  <style>\n",
              "    .colab-df-container {\n",
              "      display:flex;\n",
              "      flex-wrap:wrap;\n",
              "      gap: 12px;\n",
              "    }\n",
              "\n",
              "    .colab-df-convert {\n",
              "      background-color: #E8F0FE;\n",
              "      border: none;\n",
              "      border-radius: 50%;\n",
              "      cursor: pointer;\n",
              "      display: none;\n",
              "      fill: #1967D2;\n",
              "      height: 32px;\n",
              "      padding: 0 0 0 0;\n",
              "      width: 32px;\n",
              "    }\n",
              "\n",
              "    .colab-df-convert:hover {\n",
              "      background-color: #E2EBFA;\n",
              "      box-shadow: 0px 1px 2px rgba(60, 64, 67, 0.3), 0px 1px 3px 1px rgba(60, 64, 67, 0.15);\n",
              "      fill: #174EA6;\n",
              "    }\n",
              "\n",
              "    [theme=dark] .colab-df-convert {\n",
              "      background-color: #3B4455;\n",
              "      fill: #D2E3FC;\n",
              "    }\n",
              "\n",
              "    [theme=dark] .colab-df-convert:hover {\n",
              "      background-color: #434B5C;\n",
              "      box-shadow: 0px 1px 3px 1px rgba(0, 0, 0, 0.15);\n",
              "      filter: drop-shadow(0px 1px 2px rgba(0, 0, 0, 0.3));\n",
              "      fill: #FFFFFF;\n",
              "    }\n",
              "  </style>\n",
              "\n",
              "      <script>\n",
              "        const buttonEl =\n",
              "          document.querySelector('#df-c31e7bbf-928d-4f82-ab7d-aa98645259c5 button.colab-df-convert');\n",
              "        buttonEl.style.display =\n",
              "          google.colab.kernel.accessAllowed ? 'block' : 'none';\n",
              "\n",
              "        async function convertToInteractive(key) {\n",
              "          const element = document.querySelector('#df-c31e7bbf-928d-4f82-ab7d-aa98645259c5');\n",
              "          const dataTable =\n",
              "            await google.colab.kernel.invokeFunction('convertToInteractive',\n",
              "                                                     [key], {});\n",
              "          if (!dataTable) return;\n",
              "\n",
              "          const docLinkHtml = 'Like what you see? Visit the ' +\n",
              "            '<a target=\"_blank\" href=https://colab.research.google.com/notebooks/data_table.ipynb>data table notebook</a>'\n",
              "            + ' to learn more about interactive tables.';\n",
              "          element.innerHTML = '';\n",
              "          dataTable['output_type'] = 'display_data';\n",
              "          await google.colab.output.renderOutput(dataTable, element);\n",
              "          const docLink = document.createElement('div');\n",
              "          docLink.innerHTML = docLinkHtml;\n",
              "          element.appendChild(docLink);\n",
              "        }\n",
              "      </script>\n",
              "    </div>\n",
              "  </div>\n",
              "  "
            ]
          },
          "metadata": {},
          "execution_count": 31
        }
      ],
      "source": [
        "careers_time = pd.read_csv('./careers_time.txt', sep='; ', header=None, engine='python')\n",
        "careers_time.columns = ['id', 'papers']\n",
        "\n",
        "# Split string into a list of ints\n",
        "careers_time['papers'] = careers_time.papers.str.split('\\t')\n",
        "careers_time['papers'] = careers_time['papers'].apply(lambda x: [int(i) - int(x[0]) for i in x])\n",
        "\n",
        "careers_time.head()"
      ]
    },
    {
      "cell_type": "markdown",
      "metadata": {
        "id": "WEzXCKFuWqGZ"
      },
      "source": [
        "<h2>Read the number of citations each paper received</h2>"
      ]
    },
    {
      "cell_type": "code",
      "execution_count": 58,
      "metadata": {
        "id": "RTmuXcTnWqGa",
        "outputId": "ae323225-4df9-4ef7-a270-b284406ba2cc",
        "colab": {
          "base_uri": "https://localhost:8080/",
          "height": 206
        }
      },
      "outputs": [
        {
          "output_type": "execute_result",
          "data": {
            "text/plain": [
              "    id                                              cites\n",
              "0   48  [4, 6, 24, 3, 3, 2, 3, 1, 2, 21, 0, 16, 3, 1, ...\n",
              "1   64  [1, 0, 4, 34, 1, 20, 2, 2, 9, 1, 2, 3, 6, 1, 8...\n",
              "2  378  [2, 5, 7, 3, 1, 0, 4, 5, 5, 12, 4, 32, 12, 4, ...\n",
              "3  476  [0, 6, 8, 8, 5, 7, 4, 2, 0, 1, 7, 0, 2, 6, 4, ...\n",
              "4  485  [13, 6, 16, 16, 11, 6, 14, 2, 0, 6, 21, 32, 41..."
            ],
            "text/html": [
              "\n",
              "  <div id=\"df-e90f3377-3d31-49ab-9a3f-f638f96e4426\">\n",
              "    <div class=\"colab-df-container\">\n",
              "      <div>\n",
              "<style scoped>\n",
              "    .dataframe tbody tr th:only-of-type {\n",
              "        vertical-align: middle;\n",
              "    }\n",
              "\n",
              "    .dataframe tbody tr th {\n",
              "        vertical-align: top;\n",
              "    }\n",
              "\n",
              "    .dataframe thead th {\n",
              "        text-align: right;\n",
              "    }\n",
              "</style>\n",
              "<table border=\"1\" class=\"dataframe\">\n",
              "  <thead>\n",
              "    <tr style=\"text-align: right;\">\n",
              "      <th></th>\n",
              "      <th>id</th>\n",
              "      <th>cites</th>\n",
              "    </tr>\n",
              "  </thead>\n",
              "  <tbody>\n",
              "    <tr>\n",
              "      <th>0</th>\n",
              "      <td>48</td>\n",
              "      <td>[4, 6, 24, 3, 3, 2, 3, 1, 2, 21, 0, 16, 3, 1, ...</td>\n",
              "    </tr>\n",
              "    <tr>\n",
              "      <th>1</th>\n",
              "      <td>64</td>\n",
              "      <td>[1, 0, 4, 34, 1, 20, 2, 2, 9, 1, 2, 3, 6, 1, 8...</td>\n",
              "    </tr>\n",
              "    <tr>\n",
              "      <th>2</th>\n",
              "      <td>378</td>\n",
              "      <td>[2, 5, 7, 3, 1, 0, 4, 5, 5, 12, 4, 32, 12, 4, ...</td>\n",
              "    </tr>\n",
              "    <tr>\n",
              "      <th>3</th>\n",
              "      <td>476</td>\n",
              "      <td>[0, 6, 8, 8, 5, 7, 4, 2, 0, 1, 7, 0, 2, 6, 4, ...</td>\n",
              "    </tr>\n",
              "    <tr>\n",
              "      <th>4</th>\n",
              "      <td>485</td>\n",
              "      <td>[13, 6, 16, 16, 11, 6, 14, 2, 0, 6, 21, 32, 41...</td>\n",
              "    </tr>\n",
              "  </tbody>\n",
              "</table>\n",
              "</div>\n",
              "      <button class=\"colab-df-convert\" onclick=\"convertToInteractive('df-e90f3377-3d31-49ab-9a3f-f638f96e4426')\"\n",
              "              title=\"Convert this dataframe to an interactive table.\"\n",
              "              style=\"display:none;\">\n",
              "        \n",
              "  <svg xmlns=\"http://www.w3.org/2000/svg\" height=\"24px\"viewBox=\"0 0 24 24\"\n",
              "       width=\"24px\">\n",
              "    <path d=\"M0 0h24v24H0V0z\" fill=\"none\"/>\n",
              "    <path d=\"M18.56 5.44l.94 2.06.94-2.06 2.06-.94-2.06-.94-.94-2.06-.94 2.06-2.06.94zm-11 1L8.5 8.5l.94-2.06 2.06-.94-2.06-.94L8.5 2.5l-.94 2.06-2.06.94zm10 10l.94 2.06.94-2.06 2.06-.94-2.06-.94-.94-2.06-.94 2.06-2.06.94z\"/><path d=\"M17.41 7.96l-1.37-1.37c-.4-.4-.92-.59-1.43-.59-.52 0-1.04.2-1.43.59L10.3 9.45l-7.72 7.72c-.78.78-.78 2.05 0 2.83L4 21.41c.39.39.9.59 1.41.59.51 0 1.02-.2 1.41-.59l7.78-7.78 2.81-2.81c.8-.78.8-2.07 0-2.86zM5.41 20L4 18.59l7.72-7.72 1.47 1.35L5.41 20z\"/>\n",
              "  </svg>\n",
              "      </button>\n",
              "      \n",
              "  <style>\n",
              "    .colab-df-container {\n",
              "      display:flex;\n",
              "      flex-wrap:wrap;\n",
              "      gap: 12px;\n",
              "    }\n",
              "\n",
              "    .colab-df-convert {\n",
              "      background-color: #E8F0FE;\n",
              "      border: none;\n",
              "      border-radius: 50%;\n",
              "      cursor: pointer;\n",
              "      display: none;\n",
              "      fill: #1967D2;\n",
              "      height: 32px;\n",
              "      padding: 0 0 0 0;\n",
              "      width: 32px;\n",
              "    }\n",
              "\n",
              "    .colab-df-convert:hover {\n",
              "      background-color: #E2EBFA;\n",
              "      box-shadow: 0px 1px 2px rgba(60, 64, 67, 0.3), 0px 1px 3px 1px rgba(60, 64, 67, 0.15);\n",
              "      fill: #174EA6;\n",
              "    }\n",
              "\n",
              "    [theme=dark] .colab-df-convert {\n",
              "      background-color: #3B4455;\n",
              "      fill: #D2E3FC;\n",
              "    }\n",
              "\n",
              "    [theme=dark] .colab-df-convert:hover {\n",
              "      background-color: #434B5C;\n",
              "      box-shadow: 0px 1px 3px 1px rgba(0, 0, 0, 0.15);\n",
              "      filter: drop-shadow(0px 1px 2px rgba(0, 0, 0, 0.3));\n",
              "      fill: #FFFFFF;\n",
              "    }\n",
              "  </style>\n",
              "\n",
              "      <script>\n",
              "        const buttonEl =\n",
              "          document.querySelector('#df-e90f3377-3d31-49ab-9a3f-f638f96e4426 button.colab-df-convert');\n",
              "        buttonEl.style.display =\n",
              "          google.colab.kernel.accessAllowed ? 'block' : 'none';\n",
              "\n",
              "        async function convertToInteractive(key) {\n",
              "          const element = document.querySelector('#df-e90f3377-3d31-49ab-9a3f-f638f96e4426');\n",
              "          const dataTable =\n",
              "            await google.colab.kernel.invokeFunction('convertToInteractive',\n",
              "                                                     [key], {});\n",
              "          if (!dataTable) return;\n",
              "\n",
              "          const docLinkHtml = 'Like what you see? Visit the ' +\n",
              "            '<a target=\"_blank\" href=https://colab.research.google.com/notebooks/data_table.ipynb>data table notebook</a>'\n",
              "            + ' to learn more about interactive tables.';\n",
              "          element.innerHTML = '';\n",
              "          dataTable['output_type'] = 'display_data';\n",
              "          await google.colab.output.renderOutput(dataTable, element);\n",
              "          const docLink = document.createElement('div');\n",
              "          docLink.innerHTML = docLinkHtml;\n",
              "          element.appendChild(docLink);\n",
              "        }\n",
              "      </script>\n",
              "    </div>\n",
              "  </div>\n",
              "  "
            ]
          },
          "metadata": {},
          "execution_count": 58
        }
      ],
      "source": [
        "careers_cites = pd.read_csv('./careers_cites.txt', sep='; ', header=None, engine='python')\n",
        "careers_cites.columns = ['id', 'cites']\n",
        "\n",
        "# Split string into a list of ints\n",
        "careers_cites['cites'] = careers_cites.cites.str.split('\\t')\n",
        "careers_cites['cites'] = careers_cites['cites'].apply(lambda x: [int(i) for i in x])\n",
        "\n",
        "careers_cites.head()"
      ]
    },
    {
      "cell_type": "markdown",
      "metadata": {
        "id": "Tk3rm_uiWqGc"
      },
      "source": [
        "We can tell from the two dataframes how many citations each paper received and when it was published. For instance, looking at the first row in the two dataframes, scientist no. 48 published his/her first paper (after 0 days), which received 4 citations. He/She published their second paper after 455 days which received 6 citations, and so on."
      ]
    },
    {
      "cell_type": "markdown",
      "metadata": {
        "id": "CuNAMacSWqGc"
      },
      "source": [
        "<h2>Create the null model by randomizing the citations counts </h2>"
      ]
    },
    {
      "cell_type": "markdown",
      "metadata": {
        "id": "fVrRUgF_WqGd"
      },
      "source": [
        "To reproduce the results shown in Figure 2D in the paper, perform the following steps.\n",
        "\n",
        "1) Create the null model by randomizing the number of citations of each paper for each scientist.\n"
      ]
    },
    {
      "cell_type": "code",
      "source": [
        "from random import shuffle, sample"
      ],
      "metadata": {
        "id": "yui71U0gYMeB"
      },
      "execution_count": 53,
      "outputs": []
    },
    {
      "cell_type": "code",
      "execution_count": 56,
      "metadata": {
        "id": "dIls5XcjWqGd"
      },
      "outputs": [],
      "source": [
        "df_copy = careers_cites\n",
        "shuffled_cites = df_copy['cites'].apply(lambda x: sample(x, len(x)))\n",
        "df_copy['cites'] = shuffled_cites.values"
      ]
    },
    {
      "cell_type": "code",
      "source": [
        "print(careers_cites.head())\n",
        "print(df_copy.head())"
      ],
      "metadata": {
        "id": "jh-ksDgoahZ3",
        "outputId": "ce52a42f-941e-4280-88f2-32b16b793e99",
        "colab": {
          "base_uri": "https://localhost:8080/"
        }
      },
      "execution_count": 57,
      "outputs": [
        {
          "output_type": "stream",
          "name": "stdout",
          "text": [
            "    id                                              cites\n",
            "0   48  [6, 3, 2, 3, 6, 24, 7, 6, 19, 16, 3, 21, 7, 10...\n",
            "1   64  [2, 2, 1, 1, 34, 1, 20, 0, 12, 8, 0, 1, 31, 6,...\n",
            "2  378  [35, 3, 1, 6, 0, 2, 24, 4, 18, 2, 5, 19, 11, 6...\n",
            "3  476  [11, 52, 9, 3, 5, 3, 2, 36, 87, 52, 5, 2, 15, ...\n",
            "4  485  [19, 46, 16, 6, 0, 7, 40, 39, 7, 2, 6, 8, 8, 8...\n",
            "    id                                              cites\n",
            "0   48  [6, 3, 2, 3, 6, 24, 7, 6, 19, 16, 3, 21, 7, 10...\n",
            "1   64  [2, 2, 1, 1, 34, 1, 20, 0, 12, 8, 0, 1, 31, 6,...\n",
            "2  378  [35, 3, 1, 6, 0, 2, 24, 4, 18, 2, 5, 19, 11, 6...\n",
            "3  476  [11, 52, 9, 3, 5, 3, 2, 36, 87, 52, 5, 2, 15, ...\n",
            "4  485  [19, 46, 16, 6, 0, 7, 40, 39, 7, 2, 6, 8, 8, 8...\n"
          ]
        }
      ]
    },
    {
      "cell_type": "markdown",
      "source": [
        "\n",
        "2) Calculate the time of publication in years for the papers with the highest number of citations."
      ],
      "metadata": {
        "id": "GQDHZcDrW0rq"
      }
    },
    {
      "cell_type": "code",
      "source": [],
      "metadata": {
        "id": "eyUGxTe3W0QA"
      },
      "execution_count": 58,
      "outputs": []
    },
    {
      "cell_type": "markdown",
      "metadata": {
        "id": "EtYwvuFdWqGe"
      },
      "source": [
        "<h2>Plot both distributions: Original data and randomized data</h2>"
      ]
    },
    {
      "cell_type": "markdown",
      "metadata": {
        "id": "hEuIofKHWqGe"
      },
      "source": [
        "Now, reproduce Figure 2D in the paper. Plot the distribution of the original data and your randomized data in the same plot. Compute the p-value between the two distributions using the [Mann-Whitney U test](https://en.wikipedia.org/wiki/Mann%E2%80%93Whitney_U_test) (already imported)."
      ]
    },
    {
      "cell_type": "code",
      "execution_count": null,
      "metadata": {
        "id": "cxnWdd7OWqGe"
      },
      "outputs": [],
      "source": []
    }
  ],
  "metadata": {
    "kernelspec": {
      "display_name": "Python 3 (ipykernel)",
      "language": "python",
      "name": "python3"
    },
    "language_info": {
      "codemirror_mode": {
        "name": "ipython",
        "version": 3
      },
      "file_extension": ".py",
      "mimetype": "text/x-python",
      "name": "python",
      "nbconvert_exporter": "python",
      "pygments_lexer": "ipython3",
      "version": "3.10.6"
    },
    "colab": {
      "provenance": []
    }
  },
  "nbformat": 4,
  "nbformat_minor": 0
}